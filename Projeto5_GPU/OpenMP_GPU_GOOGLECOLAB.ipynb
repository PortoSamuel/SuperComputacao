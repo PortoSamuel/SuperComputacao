{
  "nbformat": 4,
  "nbformat_minor": 0,
  "metadata": {
    "colab": {
      "name": "OpenMP-GPU-GOOGLECOLAB.ipynb",
      "provenance": []
    },
    "kernelspec": {
      "name": "python3",
      "display_name": "Python 3"
    },
    "language_info": {
      "name": "python"
    },
    "accelerator": "GPU"
  },
  "cells": [
    {
      "cell_type": "markdown",
      "source": [
        "## **OpenMP e GPU no Google Colab**"
      ],
      "metadata": {
        "id": "VZXTR9OjscXb"
      }
    },
    {
      "cell_type": "markdown",
      "source": [
        "Para utilizar OpenMP no Google Colab, inicialmente escreva seu código numa célula de código e, na primeira linha, utilize o comando %%writefile com o nome do arquivo a ser gravado no seu diretório de trabalho."
      ],
      "metadata": {
        "id": "slZ3MeRDspIN"
      }
    },
    {
      "cell_type": "code",
      "execution_count": 1,
      "metadata": {
        "colab": {
          "base_uri": "https://localhost:8080/"
        },
        "id": "firSvf1rsbYG",
        "outputId": "53e2fb78-777c-4a76-e8f7-cb7b3ecc6dca"
      },
      "outputs": [
        {
          "output_type": "stream",
          "name": "stdout",
          "text": [
            "Writing main.cpp\n"
          ]
        }
      ],
      "source": [
        "%%writefile main.cpp\n",
        "\n",
        "#include <iostream>\n",
        "int main()\n",
        "{\n",
        "    #pragma omp parallel\n",
        "    {\n",
        "        std::cout << \"Hello World\\n\";\n",
        "    }\n",
        "    return 0;\n",
        "}"
      ]
    },
    {
      "cell_type": "markdown",
      "source": [
        "Em seguida, você deve compilar o seu código:"
      ],
      "metadata": {
        "id": "MFt5qK3GuP1w"
      }
    },
    {
      "cell_type": "code",
      "source": [
        "!g++ -fopenmp -o main main.cpp"
      ],
      "metadata": {
        "id": "wJ0eKbVkuUOd"
      },
      "execution_count": 2,
      "outputs": []
    },
    {
      "cell_type": "markdown",
      "source": [
        "Para executar o seu código, basta utilizar o nome do executável:"
      ],
      "metadata": {
        "id": "j2oBS1BPuZxK"
      }
    },
    {
      "cell_type": "code",
      "source": [
        "!./main"
      ],
      "metadata": {
        "colab": {
          "base_uri": "https://localhost:8080/"
        },
        "id": "sJENG7gwufkE",
        "outputId": "4af31ff0-31d1-4558-bcad-cb00f05d0e9d"
      },
      "execution_count": 3,
      "outputs": [
        {
          "output_type": "stream",
          "name": "stdout",
          "text": [
            "Hello World\n",
            "Hello World\n"
          ]
        }
      ]
    },
    {
      "cell_type": "markdown",
      "source": [
        "**EXERCÍCIO.** Considere o código abaixo e sua medida de tempo:"
      ],
      "metadata": {
        "id": "wj1XkuXSu49c"
      }
    },
    {
      "cell_type": "code",
      "source": [
        "%%writefile main.cpp\n",
        "\n",
        "#include <iostream>\n",
        "#define ARRAY_SIZE 100000000\n",
        "#define ARRAY_VALUE 1231\n",
        "int main()\n",
        "{\n",
        "    int *arr = new int[ARRAY_SIZE];\n",
        "    std::fill_n(arr, ARRAY_SIZE, ARRAY_VALUE);\n",
        "    for(int i = 0; i < ARRAY_SIZE; i++)\n",
        "    {\n",
        "        // do some relatively long operation\n",
        "        arr[i] = 3*arr[i]  + arr[i] / 5 - 14;\n",
        "    }\n",
        "    return 0;\n",
        "}"
      ],
      "metadata": {
        "colab": {
          "base_uri": "https://localhost:8080/"
        },
        "id": "zloOTM9WvDNX",
        "outputId": "94599cfe-547d-42f5-e4ff-b8366acda2e5"
      },
      "execution_count": 4,
      "outputs": [
        {
          "output_type": "stream",
          "name": "stdout",
          "text": [
            "Overwriting main.cpp\n"
          ]
        }
      ]
    },
    {
      "cell_type": "code",
      "source": [
        "!g++ -o main main.cpp"
      ],
      "metadata": {
        "id": "Wb0l6NolvZsW"
      },
      "execution_count": 5,
      "outputs": []
    },
    {
      "cell_type": "code",
      "source": [
        "!time ./main"
      ],
      "metadata": {
        "colab": {
          "base_uri": "https://localhost:8080/"
        },
        "id": "VttkYWCzvSlU",
        "outputId": "75078778-431c-4a07-e770-922d078f519c"
      },
      "execution_count": 6,
      "outputs": [
        {
          "output_type": "stream",
          "name": "stdout",
          "text": [
            "\n",
            "real\t0m0.744s\n",
            "user\t0m0.573s\n",
            "sys\t0m0.164s\n"
          ]
        }
      ]
    },
    {
      "cell_type": "markdown",
      "source": [
        "Utilizando OpenMP, paralelize este código e refaça a medida de tempo:"
      ],
      "metadata": {
        "id": "Bm547dCbvqI6"
      }
    },
    {
      "cell_type": "code",
      "source": [
        "%%writefile main.cpp\n",
        "\n",
        "#include <iostream>\n",
        "#define ARRAY_SIZE 100000000\n",
        "#define ARRAY_VALUE 1231\n",
        "int main()\n",
        "{\n",
        "    int *arr = new int[ARRAY_SIZE];\n",
        "    // std::fill_n(arr, ARRAY_SIZE, ARRAY_VALUE);\n",
        "    #pragma omp parallel for\n",
        "    for(int i = 0; i < ARRAY_SIZE; i++)\n",
        "    {\n",
        "        // do some relatively long operation\n",
        "        arr[i] = 3*ARRAY_VALUE  + ARRAY_VALUE / 5 - 14;\n",
        "    }\n",
        "    return 0;\n",
        "}"
      ],
      "metadata": {
        "id": "l-O66yjev1cg",
        "outputId": "dfbc2ab3-40e2-4e8f-cab3-15c769b78b75",
        "colab": {
          "base_uri": "https://localhost:8080/"
        }
      },
      "execution_count": 50,
      "outputs": [
        {
          "output_type": "stream",
          "name": "stdout",
          "text": [
            "Overwriting main.cpp\n"
          ]
        }
      ]
    },
    {
      "cell_type": "code",
      "source": [
        "!g++ -fopenmp -o main main.cpp"
      ],
      "metadata": {
        "id": "Uy78BmzUv6ZY"
      },
      "execution_count": 51,
      "outputs": []
    },
    {
      "cell_type": "code",
      "source": [
        "!time ./main"
      ],
      "metadata": {
        "id": "D1U_JWoyv8zM",
        "outputId": "45e877f3-74ef-4cb0-9cfd-f0686fad0301",
        "colab": {
          "base_uri": "https://localhost:8080/"
        }
      },
      "execution_count": 52,
      "outputs": [
        {
          "output_type": "stream",
          "name": "stdout",
          "text": [
            "\n",
            "real\t0m0.272s\n",
            "user\t0m0.291s\n",
            "sys\t0m0.208s\n"
          ]
        }
      ]
    },
    {
      "cell_type": "markdown",
      "source": [
        "Para utilizar GPU no Google Colab,  você também deve escrever seu código numa célula de código e, na primeira linha, utilize o comando %%writefile com o nome do arquivo a ser gravado no seu diretório de trabalho."
      ],
      "metadata": {
        "id": "G_OH_cOoxI4s"
      }
    },
    {
      "cell_type": "code",
      "source": [
        "%%writefile main.cu\n",
        "\n",
        "#include <thrust/device_vector.h>\n",
        "#include <iostream>\n",
        "\n",
        "int main(void)\n",
        "{\n",
        "    // inicializa todos os 10 elementos de v na GPU com o valor 1\n",
        "    thrust::device_vector<int> v(10, 1);\n",
        " \n",
        "    // mostra todos os elementos alocados\n",
        "    for(int i = 0; i < v.size(); i++)\n",
        "        std::cout << v[i] << \"\\n\";\n",
        "\n",
        "    return 0;\n",
        "}"
      ],
      "metadata": {
        "colab": {
          "base_uri": "https://localhost:8080/"
        },
        "id": "_0Hr8k9xxaFW",
        "outputId": "96d39691-68ad-4222-a96d-d3562f6baf85"
      },
      "execution_count": 53,
      "outputs": [
        {
          "output_type": "stream",
          "name": "stdout",
          "text": [
            "Writing main.cu\n"
          ]
        }
      ]
    },
    {
      "cell_type": "markdown",
      "source": [
        "Em seguida, compilamos o arquivo com o nvcc indicando o tipo específico de gpu do Google Colab (sm_37):"
      ],
      "metadata": {
        "id": "va3MdT9lxx_D"
      }
    },
    {
      "cell_type": "code",
      "source": [
        "!nvcc -Wno-deprecated-gpu-targets -arch=sm_37 -std=c++14 -o main main.cu"
      ],
      "metadata": {
        "id": "Q-KIDUboyCtr"
      },
      "execution_count": 54,
      "outputs": []
    },
    {
      "cell_type": "markdown",
      "source": [
        "Para executar o programa, primeiro você deve ativar o dispositivo GPU no menu Editar--> Configurações de Notebook --> Acelerador de Hardware (GPU). **ATENÇÃO: DEIXE A GPU ATIVADA SOMENTE ENQUANTO FOR EXECUTAR O PROGRAMA. HÁ UM TEMPO LIMITADO DE USO DAS GPUs NO GOOGLE COLAB.**"
      ],
      "metadata": {
        "id": "Rn2LhKk4y5yE"
      }
    },
    {
      "cell_type": "code",
      "source": [
        "!./main"
      ],
      "metadata": {
        "colab": {
          "base_uri": "https://localhost:8080/"
        },
        "id": "U3Iso1d7zoQF",
        "outputId": "545366c1-78be-4d9d-b62b-e6d238677c50"
      },
      "execution_count": 55,
      "outputs": [
        {
          "output_type": "stream",
          "name": "stdout",
          "text": [
            "1\n",
            "1\n",
            "1\n",
            "1\n",
            "1\n",
            "1\n",
            "1\n",
            "1\n",
            "1\n",
            "1\n"
          ]
        }
      ]
    },
    {
      "cell_type": "markdown",
      "source": [
        "**EXERCÍCIO.** Considere o código C++ abaixo que calcula a norma de um vetor de 4 componentes e suas medidas de tempo:"
      ],
      "metadata": {
        "id": "3AI7ORoT38_E"
      }
    },
    {
      "cell_type": "code",
      "source": [
        "%%writefile main.cpp\n",
        "#include <iostream>\n",
        "#include <cmath>\n",
        "\n",
        "int main(void)\n",
        "{\n",
        "    // inicializa o vetor \n",
        "    float x[4] = {1.0, 2.0, 3.0, 4.0};\n",
        "    float sum=0.0;\n",
        "    for (int i=0;i<4;i++)\n",
        "        sum+=x[i]*x[i];\n",
        "    std::cout << std::sqrt(sum);\n",
        "    return 0;\n",
        "}"
      ],
      "metadata": {
        "colab": {
          "base_uri": "https://localhost:8080/"
        },
        "id": "3xfD1UqN4gOD",
        "outputId": "11a712aa-1c34-4317-b850-df15b33a44bc"
      },
      "execution_count": 77,
      "outputs": [
        {
          "output_type": "stream",
          "name": "stdout",
          "text": [
            "Overwriting main.cpp\n"
          ]
        }
      ]
    },
    {
      "cell_type": "code",
      "source": [
        "!g++ -o main main.cpp"
      ],
      "metadata": {
        "id": "NbmLwW-u5WUX"
      },
      "execution_count": 78,
      "outputs": []
    },
    {
      "cell_type": "code",
      "source": [
        "!time ./main"
      ],
      "metadata": {
        "colab": {
          "base_uri": "https://localhost:8080/"
        },
        "id": "RGQb66yo5aU3",
        "outputId": "f72e3a49-d516-4c3b-bbc7-6dc0d7817274"
      },
      "execution_count": 79,
      "outputs": [
        {
          "output_type": "stream",
          "name": "stdout",
          "text": [
            "5.47723\n",
            "real\t0m0.005s\n",
            "user\t0m0.001s\n",
            "sys\t0m0.002s\n"
          ]
        }
      ]
    },
    {
      "cell_type": "markdown",
      "source": [
        "Paralelize o código acima em GPU com THRUST e faça uma estimativa de tempo de sua execução:"
      ],
      "metadata": {
        "id": "nJb0rQoO54qF"
      }
    },
    {
      "cell_type": "code",
      "source": [
        "%%writefile main.cu\n",
        "#include <iostream>\n",
        "#include <cmath>\n",
        "#include <thrust/random.h>\n",
        "#include <thrust/device_vector.h>\n",
        "#include <thrust/transform.h>\n",
        "#include <thrust/iterator/counting_iterator.h>\n",
        "#include <thrust/transform_reduce.h>\n",
        "#include <thrust/functional.h>\n",
        "#include <thrust/sequence.h>\n",
        "\n",
        "struct pow_ {\n",
        "\n",
        "    __host__ __device__\n",
        "    float operator()(const float& a) {\n",
        "            return a*a;\n",
        "    }\n",
        "};\n",
        "\n",
        "int main(void)\n",
        "{\n",
        "    // inicializa o vetor \n",
        "    thrust::device_vector<float> x(5);\n",
        "    thrust::sequence(x.begin(), x.end());\n",
        "    thrust::device_vector<float> res(4);\n",
        " \n",
        "    float sum;\n",
        "    thrust::transform(x.begin()+1, x.end(), res.begin(), pow_());\n",
        "    sum = thrust::reduce(res.begin(), res.end(), float(0.0));\n",
        "    std::cout << std::sqrt(sum);\n",
        "    return 0;\n",
        "}"
      ],
      "metadata": {
        "id": "07w9ujTa6HaX",
        "outputId": "829560ef-0b78-45dc-d5c5-29ec2931ae7a",
        "colab": {
          "base_uri": "https://localhost:8080/"
        }
      },
      "execution_count": 83,
      "outputs": [
        {
          "output_type": "stream",
          "name": "stdout",
          "text": [
            "Overwriting main.cu\n",
            "Overwriting main.cu\n"
          ]
        }
      ]
    },
    {
      "cell_type": "code",
      "source": [
        "!nvcc -Wno-deprecated-gpu-targets -arch=sm_37 -std=c++14 -o main main.cu"
      ],
      "metadata": {
        "id": "d5AD6p246J0x"
      },
      "execution_count": 84,
      "outputs": []
    },
    {
      "cell_type": "code",
      "source": [
        "!time ./main"
      ],
      "metadata": {
        "id": "NNEFpaO26LnS",
        "outputId": "fea0e5b7-0b01-46c8-d02c-4a9402a23f0e",
        "colab": {
          "base_uri": "https://localhost:8080/"
        }
      },
      "execution_count": 85,
      "outputs": [
        {
          "output_type": "stream",
          "name": "stdout",
          "text": [
            "5.47723\n",
            "real\t0m0.577s\n",
            "user\t0m0.308s\n",
            "sys\t0m0.256s\n",
            "5.47723\n",
            "real\t0m0.575s\n",
            "user\t0m0.320s\n",
            "sys\t0m0.245s\n"
          ]
        }
      ]
    },
    {
      "cell_type": "code",
      "source": [
        ""
      ],
      "metadata": {
        "id": "wUAyDeRRYQC1"
      },
      "execution_count": 74,
      "outputs": []
    }
  ]
}